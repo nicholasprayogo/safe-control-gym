{
 "cells": [
  {
   "cell_type": "code",
   "execution_count": 1,
   "metadata": {},
   "outputs": [
    {
     "name": "stderr",
     "output_type": "stream",
     "text": [
      "pybullet build time: Mar 29 2022 22:56:14\n"
     ]
    }
   ],
   "source": [
    "from safe_control_gym.envs.manipulators.manipulator import BaseManipulator\n",
    "import numpy as np \n",
    "import random \n",
    "from time import sleep"
   ]
  },
  {
   "cell_type": "code",
   "execution_count": 2,
   "metadata": {},
   "outputs": [
    {
     "name": "stdout",
     "output_type": "stream",
     "text": [
      "argv[0]=\n",
      "Version = 4.1 Metal - 76.3\n",
      "Vendor = Apple\n",
      "Renderer = Apple M1 Pro\n",
      "b3Printf: Selected demo: Physics Server\n",
      "startThreads creating 1 threads.\n",
      "starting thread 0\n",
      "started thread 0 \n",
      "MotionThreadFunc thread started\n"
     ]
    }
   ],
   "source": [
    "urdf_path = \"../safe_control_gym/envs/manipulators/assets/franka_panda/panda.urdf\"\n",
    "control_mode = \"torque\"\n",
    "target_space = \"joint\"\n",
    "\n",
    "env = BaseManipulator(\n",
    "    urdf_path,\n",
    "    control_mode,\n",
    "    target_space \n",
    ")"
   ]
  },
  {
   "cell_type": "code",
   "execution_count": 3,
   "metadata": {},
   "outputs": [
    {
     "data": {
      "text/plain": [
       "13"
      ]
     },
     "execution_count": 3,
     "metadata": {},
     "output_type": "execute_result"
    }
   ],
   "source": [
    "env.n_joints"
   ]
  },
  {
   "cell_type": "code",
   "execution_count": 23,
   "metadata": {},
   "outputs": [],
   "source": [
    "link_states =  env._pb_client.getLinkState(env.robot,\n",
    "                                            linkIndex=6,\n",
    "                                            computeLinkVelocity=True)\n"
   ]
  },
  {
   "cell_type": "code",
   "execution_count": 24,
   "metadata": {},
   "outputs": [
    {
     "data": {
      "text/plain": [
       "((0.039833163452802724, -0.005246717093960421, 1.0411480839438747),\n",
       " (0.6968757615251299,\n",
       "  -0.11944479553082608,\n",
       "  0.025003790002564637,\n",
       "  0.7067332766361558),\n",
       " (0.04, 0.0, 0.0),\n",
       " (0.0, 0.0, 0.0, 1.0),\n",
       " (0.0010245442390441895, -1.3434328138828278e-06, 1.0330008268356323),\n",
       " (0.6968757510185242,\n",
       "  -0.11944480240345001,\n",
       "  0.025003790855407715,\n",
       "  0.7067332863807678),\n",
       " (0.16140478353054072, -0.021992152304630256, -0.7820516002624263),\n",
       " (2.675834999501902, 19.791254360890452, -0.004319621550829485))"
      ]
     },
     "execution_count": 24,
     "metadata": {},
     "output_type": "execute_result"
    }
   ],
   "source": [
    "link_states"
   ]
  },
  {
   "cell_type": "code",
   "execution_count": 25,
   "metadata": {},
   "outputs": [],
   "source": [
    "# only extract world positions\n",
    "link_states_dict = {\n",
    "    \"position\": link_states[4],\n",
    "    \"orientation\": link_states[5],\n",
    "    \"linear_vel\": link_states[6],\n",
    "    \"angular_vel\": link_states[7]\n",
    "}"
   ]
  },
  {
   "cell_type": "code",
   "execution_count": 26,
   "metadata": {},
   "outputs": [
    {
     "data": {
      "text/plain": [
       "{'position': (0.0010245442390441895,\n",
       "  -1.3434328138828278e-06,\n",
       "  1.0330008268356323),\n",
       " 'orientation': (0.6968757510185242,\n",
       "  -0.11944480240345001,\n",
       "  0.025003790855407715,\n",
       "  0.7067332863807678),\n",
       " 'linear_vel': (0.16140478353054072,\n",
       "  -0.021992152304630256,\n",
       "  -0.7820516002624263),\n",
       " 'angular_vel': (2.675834999501902, 19.791254360890452, -0.004319621550829485)}"
      ]
     },
     "execution_count": 26,
     "metadata": {},
     "output_type": "execute_result"
    }
   ],
   "source": [
    "link_states_dict"
   ]
  },
  {
   "cell_type": "code",
   "execution_count": 26,
   "metadata": {},
   "outputs": [],
   "source": [
    "action_space = [ -200, -300, -400, 200, 300, 400,]\n",
    "\n",
    "\n",
    "for i in range(50):\n",
    "#     action_index = env.n_joints-2\n",
    "    action_index = 6\n",
    "    action_list = np.zeros(env.n_joints)\n",
    "    action_list[action_index] = random.choice(action_space)    \n",
    "    obs,reward, done,info = env.step(action_list)\n",
    "#     if i%5== 0 :\n",
    "#           print(f\"position: {obs[action_index][5]}\") # link position\n",
    "#           print(f\"angular velocity: {obs[action_index][-1]}\") # velocity\n",
    "                \n",
    "    sleep(0.05)\n",
    "    \n",
    "# for i in range(50):\n",
    "#     #     action_index = env.n_joints-2\n",
    "#     action_index = 6\n",
    "#     action_list = np.zeros(env.n_joints)\n",
    "#     action_list[action_index] = random.choice(action_space)    \n",
    "#     obs,reward, done,info = env.step(action_list)\n",
    "# #     if i%5== 0 :\n",
    "# #           print(f\"position: {obs[action_index][5]}\") # link position\n",
    "# #           print(f\"angular velocity: {obs[action_index][-1]}\") # velocity\n",
    "                \n",
    "#     sleep(0.05)"
   ]
  },
  {
   "cell_type": "code",
   "execution_count": 23,
   "metadata": {},
   "outputs": [],
   "source": [
    "from gym import spaces \n",
    "# env.observation_space = spaces.Box(-np.inf, np.inf, (14,), dtype=np.float32)\n",
    "\n",
    "# orientation use quaternion so 4 dim \n",
    "\n",
    "# action_space = [spaces.Discrete(1) for i in range(env.n_joints-1)]\n",
    "# action_space.append(spaces.Box(-400, 400, shape=(1,), dtype=np.float32))\n",
    "\n",
    "# env.action_space = spaces.Tuple(\n",
    "#     action_space\n",
    "# )\n",
    "env.action_space = spaces.Box(300, 400, (env.n_joints,), dtype=np.float32)\n",
    "env.observation_space = spaces.Box(-np.inf, np.inf, (4,), dtype=np.float32)\n",
    "\n",
    "# env.observation_space = spaces.Dict({\n",
    "#       'position': spaces.Box(-np.inf, np.inf, (env.n_joints, 3), dtype=np.float32),\n",
    "#       'orientation': spaces.Box(-np.inf, np.inf, (env.n_joints, 4), dtype=np.float32),\n",
    "#       'linear_vel': spaces.Box(-np.inf, np.inf, (env.n_joints, 3), dtype=np.float32),\n",
    "#       'angular_vel': spaces.Box(-np.inf, np.inf, (env.n_joints, 3), dtype=np.float32),\n",
    "#     })\n"
   ]
  },
  {
   "cell_type": "code",
   "execution_count": 25,
   "metadata": {},
   "outputs": [
    {
     "name": "stdout",
     "output_type": "stream",
     "text": [
      "Using cpu device\n",
      "Wrapping the env with a `Monitor` wrapper\n",
      "Wrapping the env in a DummyVecEnv.\n",
      "[300. 300. 300. 300. 300. 300. 300. 300. 300. 300. 300. 300. 300.]\n",
      "[300. 300. 300. 300. 300. 300. 300. 300. 300. 300. 300. 300. 300.]\n",
      "[300. 300. 300. 300. 300. 300. 300. 300. 300. 300. 300. 300. 300.]\n",
      "[300. 300. 300. 300. 300. 300. 300. 300. 300. 300. 300. 300. 300.]\n",
      "[300. 300. 300. 300. 300. 300. 300. 300. 300. 300. 300. 300. 300.]\n",
      "[300. 300. 300. 300. 300. 300. 300. 300. 300. 300. 300. 300. 300.]\n",
      "[300. 300. 300. 300. 300. 300. 300. 300. 300. 300. 300. 300. 300.]\n",
      "[300. 300. 300. 300. 300. 300. 300. 300. 300. 300. 300. 300. 300.]\n",
      "[300. 300. 300. 300. 300. 300. 300. 300. 300. 300. 300. 300. 300.]\n",
      "[300. 300. 300. 300. 300. 300. 300. 300. 300. 300. 300. 300. 300.]\n"
     ]
    }
   ],
   "source": [
    "from stable_baselines3 import A2C\n",
    "import gym \n",
    "# model = PPO('MultiInputPolicy', env, verbose=1)\n",
    "# model.learn(total_timesteps=10)\n",
    "# env = gym.make('CartPole-v1')\n",
    "\n",
    "model = A2C('MlpPolicy', env, verbose=1)\n",
    "model.learn(total_timesteps=10)\n",
    "\n",
    "obs = env.reset()\n",
    "for i in range(10):\n",
    "    action, _state = model.predict(obs, deterministic=True)\n",
    "    print(action)\n",
    "    obs, reward, done, info = env.step(action)\n"
   ]
  },
  {
   "cell_type": "code",
   "execution_count": 5,
   "metadata": {},
   "outputs": [],
   "source": [
    "# missing observation_space and action_space "
   ]
  },
  {
   "cell_type": "code",
   "execution_count": 9,
   "metadata": {},
   "outputs": [],
   "source": [
    "from gym import spaces \n",
    "_action_space = spaces.Box(0, 2, (2,2), dtype=np.float32)\n"
   ]
  },
  {
   "cell_type": "code",
   "execution_count": 10,
   "metadata": {},
   "outputs": [
    {
     "data": {
      "text/plain": [
       "Box([[0. 0.]\n",
       " [0. 0.]], [[2. 2.]\n",
       " [2. 2.]], (2, 2), float32)"
      ]
     },
     "execution_count": 10,
     "metadata": {},
     "output_type": "execute_result"
    }
   ],
   "source": [
    "_action_space"
   ]
  },
  {
   "cell_type": "code",
   "execution_count": null,
   "metadata": {},
   "outputs": [],
   "source": []
  }
 ],
 "metadata": {
  "interpreter": {
   "hash": "8621da41d1f75996b3114ed85820b1f2b9a1702c3804dac4519b835c2698d1e6"
  },
  "kernelspec": {
   "display_name": "Python 3.8.10 ('sc')",
   "language": "python",
   "name": "python3"
  },
  "language_info": {
   "codemirror_mode": {
    "name": "ipython",
    "version": 3
   },
   "file_extension": ".py",
   "mimetype": "text/x-python",
   "name": "python",
   "nbconvert_exporter": "python",
   "pygments_lexer": "ipython3",
   "version": "3.8.10"
  },
  "orig_nbformat": 4
 },
 "nbformat": 4,
 "nbformat_minor": 2
}
