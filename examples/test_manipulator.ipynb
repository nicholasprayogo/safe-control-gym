{
 "cells": [
  {
   "cell_type": "code",
   "execution_count": 1,
   "metadata": {},
   "outputs": [
    {
     "name": "stderr",
     "output_type": "stream",
     "text": [
      "pybullet build time: Mar 29 2022 22:56:14\n"
     ]
    }
   ],
   "source": [
    "from safe_control_gym.envs.manipulators.manipulator import BaseManipulator\n",
    "import numpy as np \n",
    "import random \n",
    "from time import sleep"
   ]
  },
  {
   "cell_type": "code",
   "execution_count": 2,
   "metadata": {},
   "outputs": [
    {
     "name": "stdout",
     "output_type": "stream",
     "text": [
      "argv[0]=\n",
      "Version = 4.1 Metal - 76.3\n",
      "Vendor = Apple\n",
      "Renderer = Apple M1 Pro\n",
      "b3Printf: Selected demo: Physics Server\n",
      "startThreads creating 1 threads.\n",
      "starting thread 0\n",
      "started thread 0 \n",
      "MotionThreadFunc thread started\n"
     ]
    }
   ],
   "source": [
    "urdf_path = \"../safe_control_gym/envs/manipulators/assets/franka_panda/panda.urdf\"\n",
    "control_mode = \"torque\"\n",
    "target_space = \"joint\"\n",
    "\n",
    "env = BaseManipulator(\n",
    "    urdf_path,\n",
    "    control_mode,\n",
    "    target_space \n",
    ")"
   ]
  },
  {
   "cell_type": "code",
   "execution_count": 3,
   "metadata": {},
   "outputs": [
    {
     "data": {
      "text/plain": [
       "13"
      ]
     },
     "execution_count": 3,
     "metadata": {},
     "output_type": "execute_result"
    }
   ],
   "source": [
    "env.n_joints"
   ]
  },
  {
   "cell_type": "code",
   "execution_count": 4,
   "metadata": {},
   "outputs": [],
   "source": [
    "\n"
   ]
  },
  {
   "cell_type": "code",
   "execution_count": 13,
   "metadata": {},
   "outputs": [],
   "source": [
    "\n",
    "action_space = [50, 100, 200, 400]\n",
    "\n",
    "action_list = np.zeros(env.n_joints)\n",
    "action_list[env.n_joints-2] = random.choice(action_space)"
   ]
  },
  {
   "cell_type": "code",
   "execution_count": 14,
   "metadata": {},
   "outputs": [
    {
     "data": {
      "text/plain": [
       "array([  0., 200.,   0.,   0.,   0.,   0.,   0.,   0.,   0.,   0.,   0.,\n",
       "       100.,   0.])"
      ]
     },
     "execution_count": 14,
     "metadata": {},
     "output_type": "execute_result"
    }
   ],
   "source": [
    "action_list"
   ]
  },
  {
   "cell_type": "code",
   "execution_count": 12,
   "metadata": {},
   "outputs": [
    {
     "name": "stdout",
     "output_type": "stream",
     "text": [
      "position: (0.0, 0.0, 0.00014152302173897624, 1.0)\n",
      "angular velocity: (0.0, 0.0, 1.0733526248030145e-05)\n",
      "position: (0.0, 0.0, 0.011294149793684483, 0.9999362230300903)\n",
      "angular velocity: (0.0, 0.0, 2.765052663988854e-05)\n",
      "position: (0.0, 0.0, 0.04103482887148857, 0.9991576671600342)\n",
      "angular velocity: (0.0, 0.0, 3.8553550488323705)\n",
      "position: (0.0, 0.0, 0.05460052192211151, 0.9985082745552063)\n",
      "angular velocity: (0.0, 0.0, 4.761484369903375)\n",
      "position: (0.0, 0.0, 0.10216118395328522, 0.9947678446769714)\n",
      "angular velocity: (0.0, 0.0, 0.5956035352137032)\n",
      "position: (0.0, 0.0, 0.14089831709861755, 0.9900240302085876)\n",
      "angular velocity: (0.0, 0.0, 2.6640509571426385)\n",
      "position: (0.0, 0.0, 0.1463910937309265, 0.9892268180847168)\n",
      "angular velocity: (0.0, 0.0, 6.060199313040471e-06)\n",
      "position: (0.0, 0.0, 0.1574152708053589, 0.9875324368476868)\n",
      "angular velocity: (0.0, 0.0, 4.761739735664161)\n",
      "position: (0.0, 0.0, 0.2212148904800415, 0.9752251505851746)\n",
      "angular velocity: (0.0, 0.0, 3.248188050815294)\n",
      "position: (0.0, 0.0, 0.23373191058635712, 0.9723010659217834)\n",
      "angular velocity: (0.0, 0.0, 4.761752677127529)\n"
     ]
    }
   ],
   "source": [
    "action_space = [50, 100, 200, 400]\n",
    "\n",
    "\n",
    "for i in range(50):\n",
    "#     action_index = env.n_joints-2\n",
    "    action_index = 1\n",
    "    action_list = np.zeros(env.n_joints)\n",
    "    action_list[action_index] = random.choice(action_space)    \n",
    "    obs,reward, done,info = env.step(action_list)\n",
    "    if i%5== 0 :\n",
    "          print(f\"position: {obs[action_index][5]}\") # link position\n",
    "          print(f\"angular velocity: {obs[action_index][-1]}\") # velocity\n",
    "                \n",
    "    sleep(0.1)"
   ]
  },
  {
   "cell_type": "code",
   "execution_count": null,
   "metadata": {},
   "outputs": [],
   "source": []
  },
  {
   "cell_type": "code",
   "execution_count": null,
   "metadata": {},
   "outputs": [],
   "source": []
  }
 ],
 "metadata": {
  "interpreter": {
   "hash": "8621da41d1f75996b3114ed85820b1f2b9a1702c3804dac4519b835c2698d1e6"
  },
  "kernelspec": {
   "display_name": "Python 3.8.10 ('sc')",
   "language": "python",
   "name": "python3"
  },
  "language_info": {
   "codemirror_mode": {
    "name": "ipython",
    "version": 3
   },
   "file_extension": ".py",
   "mimetype": "text/x-python",
   "name": "python",
   "nbconvert_exporter": "python",
   "pygments_lexer": "ipython3",
   "version": "3.8.10"
  },
  "orig_nbformat": 4
 },
 "nbformat": 4,
 "nbformat_minor": 2
}
